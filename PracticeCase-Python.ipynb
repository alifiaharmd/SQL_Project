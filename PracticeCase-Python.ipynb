{
 "cells": [
  {
   "cell_type": "markdown",
   "metadata": {},
   "source": [
    "# PracticeCase_Python\n",
    "Data Fellowship by IYKRA\n",
    "\n",
    "Name: Alifia Cesarina Harmadi"
   ]
  },
  {
   "cell_type": "markdown",
   "metadata": {},
   "source": [
    "# Question 1"
   ]
  },
  {
   "cell_type": "code",
   "execution_count": 1,
   "metadata": {},
   "outputs": [
    {
     "name": "stdout",
     "output_type": "stream",
     "text": [
      "(5, 1, 8.47, 20.0, 'buy', 'close')\n",
      "(6, 2, 9.03, 20.0, 'buy', 'open')\n",
      "(7, 4, 9.15, 20.0, 'sell', 'close')\n",
      "(8, 3, 9.27, 20.0, 'buy', 'open')\n"
     ]
    }
   ],
   "source": [
    "import sqlite3\n",
    "\n",
    "def main():\n",
    "    connection = sqlite3.connect('data.db')\n",
    "\n",
    "    cursor = connection.cursor()\n",
    "\n",
    "    data = \"\"\"CREATE TABLE IF NOT EXISTS\n",
    "    transactions(id INTEGER,\n",
    "                user_id INTEGER,\n",
    "                insert_time TIMESTAMP,\n",
    "                tx_amount FLOAT, \n",
    "                tx_type TEXT,\n",
    "                status TEXT)\"\"\"\n",
    "\n",
    "    cursor.execute(data)\n",
    "\n",
    "    cursor.execute(\"INSERT INTO transactions VALUES (1,1,7.30,20, 'buy','open')\")\n",
    "    cursor.execute(\"INSERT INTO transactions VALUES (2,3,7.45,20, 'buy','close')\")\n",
    "    cursor.execute(\"INSERT INTO transactions VALUES (3,2,8.10,20, 'sell','open')\")\n",
    "    cursor.execute(\"INSERT INTO transactions VALUES (4,1,8.21,20, 'sell','open')\")\n",
    "    cursor.execute(\"INSERT INTO transactions VALUES (5,1,8.47,20, 'buy','close')\")\n",
    "    cursor.execute(\"INSERT INTO transactions VALUES (6,2,9.03,20, 'buy','open')\")\n",
    "    cursor.execute(\"INSERT INTO transactions VALUES (7,4,9.15,20, 'sell','close')\")\n",
    "    cursor.execute(\"INSERT INTO transactions VALUES (8,3,9.27,20, 'buy','open')\")\n",
    "\n",
    "    cursor.execute(\"\"\"SELECT t1.* \n",
    "                      FROM transactions t1\n",
    "                      WHERE t1.insert_time = (SELECT MAX(t2.insert_time)\n",
    "                      FROM transactions t2\n",
    "                      WHERE t2.user_id = t1.user_id) \"\"\"   )\n",
    "\n",
    "    for result in cursor.fetchall():\n",
    "        print(result)\n",
    "\n",
    "if __name__ == \"__main__\":\n",
    "    main()"
   ]
  },
  {
   "cell_type": "markdown",
   "metadata": {},
   "source": [
    "# Question 2"
   ]
  },
  {
   "cell_type": "code",
   "execution_count": 2,
   "metadata": {},
   "outputs": [
    {
     "name": "stdout",
     "output_type": "stream",
     "text": [
      "('01/01/21', 100)\n",
      "('02/01/21', 289)\n",
      "('03/01/21', 169)\n",
      "('04/01/21', 1177)\n",
      "('05/01/21', 322)\n",
      "('06/01/21', 242)\n",
      "('07/01/21', 22)\n",
      "('08/01/21', 46)\n"
     ]
    }
   ],
   "source": [
    "import sqlite3\n",
    "\n",
    "def main():\n",
    "    connection = sqlite3.connect('data.db')\n",
    "\n",
    "    cursor = connection.cursor()\n",
    "\n",
    "    data = \"\"\"CREATE TABLE IF NOT EXISTS\n",
    "    datasetB(Date TIMESTAMP, Sales INTEGER)\"\"\"\n",
    "\n",
    "    cursor.execute(data)\n",
    "\n",
    "    cursor.execute(\"INSERT INTO datasetB VALUES ('01/01/21',100)\")\n",
    "    cursor.execute(\"INSERT INTO datasetB VALUES ('02/01/21',34)\")\n",
    "    cursor.execute(\"INSERT INTO datasetB VALUES ('02/01/21',123)\")\n",
    "    cursor.execute(\"INSERT INTO datasetB VALUES ('02/01/21',132)\")\n",
    "    cursor.execute(\"INSERT INTO datasetB VALUES ('03/01/21',145)\")\n",
    "    cursor.execute(\"INSERT INTO datasetB VALUES ('03/01/21',24)\")\n",
    "    cursor.execute(\"INSERT INTO datasetB VALUES ('04/01/21',541)\")\n",
    "    cursor.execute(\"INSERT INTO datasetB VALUES ('04/01/21',636)\")\n",
    "    cursor.execute(\"INSERT INTO datasetB VALUES ('05/01/21',322)\")\n",
    "    cursor.execute(\"INSERT INTO datasetB VALUES ('06/01/21',242)\")\n",
    "    cursor.execute(\"INSERT INTO datasetB VALUES ('07/01/21',22)\")\n",
    "    cursor.execute(\"INSERT INTO datasetB VALUES ('08/01/21',46)\")\n",
    "\n",
    "    cursor.execute(\"SELECT DISTINCT(Date), SUM(Sales) OVER(PARTITION BY Date) FROM datasetB\")\n",
    "\n",
    "    for result in cursor.fetchall():\n",
    "        print(result)\n",
    "\n",
    "if __name__ == \"__main__\":\n",
    "    main()"
   ]
  },
  {
   "cell_type": "markdown",
   "metadata": {},
   "source": [
    "# Question 3"
   ]
  },
  {
   "cell_type": "markdown",
   "metadata": {},
   "source": [
    "### write and load a JSON file"
   ]
  },
  {
   "cell_type": "code",
   "execution_count": 3,
   "metadata": {},
   "outputs": [],
   "source": [
    "# Python program to convert\n",
    "# JSON file to CSV\n",
    "\n",
    "import pandas as pd\n",
    "import json\n",
    "import csv\n",
    "\n",
    "data = [\n",
    "          {\n",
    "              \"user\": {\n",
    "                  \"id\": 1,\n",
    "                  \"name\": \"agus\",\n",
    "                  \"email\": \"agus@example.com\"\n",
    "              },\n",
    "              \"txs\": [\n",
    "                  {\n",
    "                      \"id\": 1,\n",
    "                      \"tx_date\": \"2020-01-01\",\n",
    "                      \"tx_amount\": 10,\n",
    "                      \"tx_type\": \"buy\"\n",
    "                  },\n",
    "                  {\n",
    "                      \"id\": 3,\n",
    "                      \"tx_date\": \"2020-02-01\",\n",
    "                      \"tx_amount\": 10,\n",
    "                      \"tx_type\": \"buy\"\n",
    "                  },\n",
    "                  {\n",
    "                      \"id\": 5,\n",
    "                      \"tx_date\": \"2020-03-01\",\n",
    "                      \"tx_amount\": 20,\n",
    "                      \"tx_type\": \"sell\"\n",
    "                  }\n",
    "              ]\n",
    "          },\n",
    "          {\n",
    "              \"user\": {\n",
    "                  \"id\": 2,\n",
    "                  \"name\": \"asep\",\n",
    "                  \"email\": \"asep@example.com\"\n",
    "              },\n",
    "              \"txs\": [\n",
    "                  {\n",
    "                      \"id\": 2,\n",
    "                      \"tx_date\": \"2020-01-01\",\n",
    "                      \"tx_amount\": 10,\n",
    "                      \"tx_type\": \"sell\"\n",
    "                  },\n",
    "                  {\n",
    "                      \"id\": 4,\n",
    "                      \"tx_date\": \"2020-02-01\",\n",
    "                      \"tx_amount\": 10,\n",
    "                      \"tx_type\": \"sell\"\n",
    "                  },\n",
    "                  {\n",
    "                      \"id\": 6,\n",
    "                      \"tx_date\": \"2020-03-01\",\n",
    "                      \"tx_amount\": 20,\n",
    "                      \"tx_type\": \"buy\"\n",
    "                  }\n",
    "              ]\n",
    "          }\n",
    "       ]\n",
    " \n",
    "with open('data.json', 'w') as files:\n",
    "    json.dump(data,files)\n",
    " \n",
    "# Opening JSON file and loading the data\n",
    "# into the variable data\n",
    "with open('data.json') as f:\n",
    "    data = json.load(f)"
   ]
  },
  {
   "cell_type": "code",
   "execution_count": 4,
   "metadata": {},
   "outputs": [
    {
     "data": {
      "text/html": [
       "<div>\n",
       "<style scoped>\n",
       "    .dataframe tbody tr th:only-of-type {\n",
       "        vertical-align: middle;\n",
       "    }\n",
       "\n",
       "    .dataframe tbody tr th {\n",
       "        vertical-align: top;\n",
       "    }\n",
       "\n",
       "    .dataframe thead th {\n",
       "        text-align: right;\n",
       "    }\n",
       "</style>\n",
       "<table border=\"1\" class=\"dataframe\">\n",
       "  <thead>\n",
       "    <tr style=\"text-align: right;\">\n",
       "      <th></th>\n",
       "      <th>id</th>\n",
       "      <th>tx_date</th>\n",
       "      <th>tx_amount</th>\n",
       "      <th>tx_type</th>\n",
       "      <th>user.id</th>\n",
       "      <th>user.name</th>\n",
       "      <th>user.email</th>\n",
       "    </tr>\n",
       "  </thead>\n",
       "  <tbody>\n",
       "    <tr>\n",
       "      <th>0</th>\n",
       "      <td>1</td>\n",
       "      <td>2020-01-01</td>\n",
       "      <td>10</td>\n",
       "      <td>buy</td>\n",
       "      <td>1</td>\n",
       "      <td>agus</td>\n",
       "      <td>agus@example.com</td>\n",
       "    </tr>\n",
       "    <tr>\n",
       "      <th>1</th>\n",
       "      <td>3</td>\n",
       "      <td>2020-02-01</td>\n",
       "      <td>10</td>\n",
       "      <td>buy</td>\n",
       "      <td>1</td>\n",
       "      <td>agus</td>\n",
       "      <td>agus@example.com</td>\n",
       "    </tr>\n",
       "    <tr>\n",
       "      <th>2</th>\n",
       "      <td>5</td>\n",
       "      <td>2020-03-01</td>\n",
       "      <td>20</td>\n",
       "      <td>sell</td>\n",
       "      <td>1</td>\n",
       "      <td>agus</td>\n",
       "      <td>agus@example.com</td>\n",
       "    </tr>\n",
       "    <tr>\n",
       "      <th>3</th>\n",
       "      <td>2</td>\n",
       "      <td>2020-01-01</td>\n",
       "      <td>10</td>\n",
       "      <td>sell</td>\n",
       "      <td>2</td>\n",
       "      <td>asep</td>\n",
       "      <td>asep@example.com</td>\n",
       "    </tr>\n",
       "    <tr>\n",
       "      <th>4</th>\n",
       "      <td>4</td>\n",
       "      <td>2020-02-01</td>\n",
       "      <td>10</td>\n",
       "      <td>sell</td>\n",
       "      <td>2</td>\n",
       "      <td>asep</td>\n",
       "      <td>asep@example.com</td>\n",
       "    </tr>\n",
       "  </tbody>\n",
       "</table>\n",
       "</div>"
      ],
      "text/plain": [
       "   id     tx_date  tx_amount tx_type user.id user.name        user.email\n",
       "0   1  2020-01-01         10     buy       1      agus  agus@example.com\n",
       "1   3  2020-02-01         10     buy       1      agus  agus@example.com\n",
       "2   5  2020-03-01         20    sell       1      agus  agus@example.com\n",
       "3   2  2020-01-01         10    sell       2      asep  asep@example.com\n",
       "4   4  2020-02-01         10    sell       2      asep  asep@example.com"
      ]
     },
     "execution_count": 4,
     "metadata": {},
     "output_type": "execute_result"
    }
   ],
   "source": [
    "# Transform JSON file into Dataframe\n",
    "data = pd.json_normalize(data, 'txs', [['user','id'], ['user','name'], ['user','email']])\n",
    "data.head()"
   ]
  },
  {
   "cell_type": "markdown",
   "metadata": {},
   "source": [
    "### convert the JSON file into three CSV files"
   ]
  },
  {
   "cell_type": "code",
   "execution_count": 5,
   "metadata": {},
   "outputs": [],
   "source": [
    "CSV_1 = data[['user.id','id']]\n",
    "CSV_1.to_csv('CSV_1.csv', header= ['user_id', 'tx_id'],index= False)"
   ]
  },
  {
   "cell_type": "code",
   "execution_count": 6,
   "metadata": {},
   "outputs": [],
   "source": [
    "CSV_2 = data[['user.id','user.name', 'user.email']].drop_duplicates().reset_index(drop=True)\n",
    "CSV_2.to_csv('CSV_2.csv', header= ['id', 'name', 'email'], index= False)"
   ]
  },
  {
   "cell_type": "code",
   "execution_count": 7,
   "metadata": {},
   "outputs": [],
   "source": [
    "CSV_3 = data[['id', 'tx_date', 'tx_amount', 'tx_type']].sort_values('tx_date')\n",
    "CSV_3.to_csv('CSV_3.csv', index = False)"
   ]
  }
 ],
 "metadata": {
  "interpreter": {
   "hash": "c04335a89c63538b1e6b21afaa0e804e2591b7f5a58e1893ae73180aed9546ca"
  },
  "kernelspec": {
   "display_name": "Python 3",
   "language": "python",
   "name": "python3"
  },
  "language_info": {
   "codemirror_mode": {
    "name": "ipython",
    "version": 3
   },
   "file_extension": ".py",
   "mimetype": "text/x-python",
   "name": "python",
   "nbconvert_exporter": "python",
   "pygments_lexer": "ipython3",
   "version": "3.7.6"
  }
 },
 "nbformat": 4,
 "nbformat_minor": 2
}
